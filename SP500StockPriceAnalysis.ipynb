{
 "cells": [
  {
   "cell_type": "markdown",
   "metadata": {},
   "source": [
    "# A Deep Dive into the S&P 500: Predicting Stock Prices\n",
    "Kanishk Chinnapapannagari, Aarav Naveen, Avyay Potarlanka, and Melvin Rajendran"
   ]
  },
  {
   "cell_type": "markdown",
   "metadata": {},
   "source": [
    "## Introduction"
   ]
  },
  {
   "cell_type": "markdown",
   "metadata": {},
   "source": []
  },
  {
   "cell_type": "code",
   "execution_count": 40,
   "metadata": {},
   "outputs": [],
   "source": [
    "import pandas as pd\n",
    "import os\n",
    "import csv"
   ]
  },
  {
   "cell_type": "markdown",
   "metadata": {},
   "source": [
    "## Data Collection"
   ]
  },
  {
   "cell_type": "code",
   "execution_count": 41,
   "metadata": {},
   "outputs": [],
   "source": [
    "# All historical stock data for each ticker in one dataframe\n",
    "data = pd.DataFrame()"
   ]
  },
  {
   "cell_type": "code",
   "execution_count": 42,
   "metadata": {},
   "outputs": [],
   "source": [
    "# File path for folder with all .csv files\n",
    "folder_path = 'sp500-data'\n",
    "\n",
    "# Look at all files in folder\n",
    "for file_name in os.listdir(folder_path):\n",
    "    # Only process .csv files\n",
    "    if file_name.endswith('.csv'):\n",
    "        # Get full path for the current .csv file\n",
    "        file_path = os.path.join(folder_path, file_name)\n",
    "        # Create a temporary DataFrame\n",
    "        temp = pd.read_csv(file_path)\n",
    "        # Get ticker name\n",
    "        ticker = file_name[0:-4]\n",
    "        # Add ticker name as a column\n",
    "        temp['Ticker'] = [ticker] * len(temp)\n",
    "        # Combine to accumulator dataframe that stores all data\n",
    "        data = pd.concat([data, temp])\n",
    "        "
   ]
  },
  {
   "cell_type": "code",
   "execution_count": 43,
   "metadata": {},
   "outputs": [
    {
     "data": {
      "text/html": [
       "<div>\n",
       "<style scoped>\n",
       "    .dataframe tbody tr th:only-of-type {\n",
       "        vertical-align: middle;\n",
       "    }\n",
       "\n",
       "    .dataframe tbody tr th {\n",
       "        vertical-align: top;\n",
       "    }\n",
       "\n",
       "    .dataframe thead th {\n",
       "        text-align: right;\n",
       "    }\n",
       "</style>\n",
       "<table border=\"1\" class=\"dataframe\">\n",
       "  <thead>\n",
       "    <tr style=\"text-align: right;\">\n",
       "      <th></th>\n",
       "      <th>Ticker</th>\n",
       "      <th>Date</th>\n",
       "      <th>Low</th>\n",
       "      <th>Open</th>\n",
       "      <th>Volume</th>\n",
       "      <th>High</th>\n",
       "      <th>Close</th>\n",
       "      <th>Adjusted Close</th>\n",
       "    </tr>\n",
       "  </thead>\n",
       "  <tbody>\n",
       "    <tr>\n",
       "      <th>0</th>\n",
       "      <td>CSCO</td>\n",
       "      <td>16-02-1990</td>\n",
       "      <td>0.073785</td>\n",
       "      <td>0.0</td>\n",
       "      <td>940636800.0</td>\n",
       "      <td>0.079861</td>\n",
       "      <td>0.077257</td>\n",
       "      <td>0.054862</td>\n",
       "    </tr>\n",
       "    <tr>\n",
       "      <th>1</th>\n",
       "      <td>CSCO</td>\n",
       "      <td>20-02-1990</td>\n",
       "      <td>0.074653</td>\n",
       "      <td>0.0</td>\n",
       "      <td>151862400.0</td>\n",
       "      <td>0.079861</td>\n",
       "      <td>0.079861</td>\n",
       "      <td>0.056712</td>\n",
       "    </tr>\n",
       "    <tr>\n",
       "      <th>2</th>\n",
       "      <td>CSCO</td>\n",
       "      <td>21-02-1990</td>\n",
       "      <td>0.075521</td>\n",
       "      <td>0.0</td>\n",
       "      <td>70531200.0</td>\n",
       "      <td>0.078993</td>\n",
       "      <td>0.078125</td>\n",
       "      <td>0.055479</td>\n",
       "    </tr>\n",
       "    <tr>\n",
       "      <th>3</th>\n",
       "      <td>CSCO</td>\n",
       "      <td>22-02-1990</td>\n",
       "      <td>0.078993</td>\n",
       "      <td>0.0</td>\n",
       "      <td>45216000.0</td>\n",
       "      <td>0.081597</td>\n",
       "      <td>0.078993</td>\n",
       "      <td>0.056095</td>\n",
       "    </tr>\n",
       "    <tr>\n",
       "      <th>4</th>\n",
       "      <td>CSCO</td>\n",
       "      <td>23-02-1990</td>\n",
       "      <td>0.078125</td>\n",
       "      <td>0.0</td>\n",
       "      <td>44697600.0</td>\n",
       "      <td>0.079861</td>\n",
       "      <td>0.078559</td>\n",
       "      <td>0.055787</td>\n",
       "    </tr>\n",
       "  </tbody>\n",
       "</table>\n",
       "</div>"
      ],
      "text/plain": [
       "  Ticker        Date       Low  Open       Volume      High     Close  \\\n",
       "0   CSCO  16-02-1990  0.073785   0.0  940636800.0  0.079861  0.077257   \n",
       "1   CSCO  20-02-1990  0.074653   0.0  151862400.0  0.079861  0.079861   \n",
       "2   CSCO  21-02-1990  0.075521   0.0   70531200.0  0.078993  0.078125   \n",
       "3   CSCO  22-02-1990  0.078993   0.0   45216000.0  0.081597  0.078993   \n",
       "4   CSCO  23-02-1990  0.078125   0.0   44697600.0  0.079861  0.078559   \n",
       "\n",
       "   Adjusted Close  \n",
       "0        0.054862  \n",
       "1        0.056712  \n",
       "2        0.055479  \n",
       "3        0.056095  \n",
       "4        0.055787  "
      ]
     },
     "execution_count": 43,
     "metadata": {},
     "output_type": "execute_result"
    }
   ],
   "source": [
    "# Reorder columns so that the ticker name is at the start\n",
    "data = data.reindex(columns=['Ticker', 'Date', 'Low', 'Open', 'Volume', 'High', 'Close', \"Adjusted Close\"])\n",
    "\n",
    "# Display data\n",
    "data.head()"
   ]
  },
  {
   "cell_type": "markdown",
   "metadata": {},
   "source": [
    "## Data Processing"
   ]
  },
  {
   "cell_type": "code",
   "execution_count": null,
   "metadata": {},
   "outputs": [],
   "source": []
  },
  {
   "cell_type": "markdown",
   "metadata": {},
   "source": [
    "## Exploratory Data Analysis and Data Visualization"
   ]
  },
  {
   "cell_type": "code",
   "execution_count": null,
   "metadata": {},
   "outputs": [],
   "source": []
  },
  {
   "cell_type": "markdown",
   "metadata": {},
   "source": [
    "## Data Analysis, Hypothesis Testing, and Machine Learning"
   ]
  },
  {
   "cell_type": "code",
   "execution_count": null,
   "metadata": {},
   "outputs": [],
   "source": []
  },
  {
   "cell_type": "markdown",
   "metadata": {},
   "source": [
    "## Insights and Policy Decision"
   ]
  },
  {
   "cell_type": "code",
   "execution_count": null,
   "metadata": {},
   "outputs": [],
   "source": []
  }
 ],
 "metadata": {
  "kernelspec": {
   "display_name": "Python 3 (ipykernel)",
   "language": "python",
   "name": "python3"
  },
  "language_info": {
   "codemirror_mode": {
    "name": "ipython",
    "version": 3
   },
   "file_extension": ".py",
   "mimetype": "text/x-python",
   "name": "python",
   "nbconvert_exporter": "python",
   "pygments_lexer": "ipython3",
   "version": "3.10.8"
  }
 },
 "nbformat": 4,
 "nbformat_minor": 4
}
