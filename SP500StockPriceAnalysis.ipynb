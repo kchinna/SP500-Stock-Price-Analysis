{
 "cells": [
  {
   "cell_type": "code",
   "execution_count": 1,
   "metadata": {},
   "outputs": [],
   "source": [
    "import pandas as pd"
   ]
  },
  {
   "cell_type": "code",
   "execution_count": 4,
   "metadata": {},
   "outputs": [
    {
     "data": {
      "text/html": [
       "<div>\n",
       "<style scoped>\n",
       "    .dataframe tbody tr th:only-of-type {\n",
       "        vertical-align: middle;\n",
       "    }\n",
       "\n",
       "    .dataframe tbody tr th {\n",
       "        vertical-align: top;\n",
       "    }\n",
       "\n",
       "    .dataframe thead th {\n",
       "        text-align: right;\n",
       "    }\n",
       "</style>\n",
       "<table border=\"1\" class=\"dataframe\">\n",
       "  <thead>\n",
       "    <tr style=\"text-align: right;\">\n",
       "      <th></th>\n",
       "      <th>Date</th>\n",
       "      <th>Low</th>\n",
       "      <th>Open</th>\n",
       "      <th>Volume</th>\n",
       "      <th>High</th>\n",
       "      <th>Close</th>\n",
       "      <th>Adjusted Close</th>\n",
       "    </tr>\n",
       "  </thead>\n",
       "  <tbody>\n",
       "    <tr>\n",
       "      <th>0</th>\n",
       "      <td>18-11-1999</td>\n",
       "      <td>28.612303</td>\n",
       "      <td>32.546494</td>\n",
       "      <td>62546380</td>\n",
       "      <td>35.765381</td>\n",
       "      <td>31.473534</td>\n",
       "      <td>26.929760</td>\n",
       "    </tr>\n",
       "    <tr>\n",
       "      <th>1</th>\n",
       "      <td>19-11-1999</td>\n",
       "      <td>28.478184</td>\n",
       "      <td>30.713518</td>\n",
       "      <td>15234146</td>\n",
       "      <td>30.758226</td>\n",
       "      <td>28.880545</td>\n",
       "      <td>24.711119</td>\n",
       "    </tr>\n",
       "    <tr>\n",
       "      <th>2</th>\n",
       "      <td>22-11-1999</td>\n",
       "      <td>28.657009</td>\n",
       "      <td>29.551144</td>\n",
       "      <td>6577870</td>\n",
       "      <td>31.473534</td>\n",
       "      <td>31.473534</td>\n",
       "      <td>26.929760</td>\n",
       "    </tr>\n",
       "    <tr>\n",
       "      <th>3</th>\n",
       "      <td>23-11-1999</td>\n",
       "      <td>28.612303</td>\n",
       "      <td>30.400572</td>\n",
       "      <td>5975611</td>\n",
       "      <td>31.205294</td>\n",
       "      <td>28.612303</td>\n",
       "      <td>24.481602</td>\n",
       "    </tr>\n",
       "    <tr>\n",
       "      <th>4</th>\n",
       "      <td>24-11-1999</td>\n",
       "      <td>28.612303</td>\n",
       "      <td>28.701717</td>\n",
       "      <td>4843231</td>\n",
       "      <td>29.998213</td>\n",
       "      <td>29.372318</td>\n",
       "      <td>25.131901</td>\n",
       "    </tr>\n",
       "  </tbody>\n",
       "</table>\n",
       "</div>"
      ],
      "text/plain": [
       "         Date        Low       Open    Volume       High      Close  \\\n",
       "0  18-11-1999  28.612303  32.546494  62546380  35.765381  31.473534   \n",
       "1  19-11-1999  28.478184  30.713518  15234146  30.758226  28.880545   \n",
       "2  22-11-1999  28.657009  29.551144   6577870  31.473534  31.473534   \n",
       "3  23-11-1999  28.612303  30.400572   5975611  31.205294  28.612303   \n",
       "4  24-11-1999  28.612303  28.701717   4843231  29.998213  29.372318   \n",
       "\n",
       "   Adjusted Close  \n",
       "0       26.929760  \n",
       "1       24.711119  \n",
       "2       26.929760  \n",
       "3       24.481602  \n",
       "4       25.131901  "
      ]
     },
     "execution_count": 4,
     "metadata": {},
     "output_type": "execute_result"
    }
   ],
   "source": [
    "# Read the CSV file into a data frame\n",
    "data = pd.read_csv('sp500-data/A.csv')\n",
    "\n",
    "# Print the first five rows of the data frame\n",
    "data.head()"
   ]
  }
 ],
 "metadata": {
  "kernelspec": {
   "display_name": "Python 3",
   "language": "python",
   "name": "python3"
  },
  "language_info": {
   "codemirror_mode": {
    "name": "ipython",
    "version": 3
   },
   "file_extension": ".py",
   "mimetype": "text/x-python",
   "name": "python",
   "nbconvert_exporter": "python",
   "pygments_lexer": "ipython3",
   "version": "3.10.6"
  },
  "orig_nbformat": 4
 },
 "nbformat": 4,
 "nbformat_minor": 2
}
